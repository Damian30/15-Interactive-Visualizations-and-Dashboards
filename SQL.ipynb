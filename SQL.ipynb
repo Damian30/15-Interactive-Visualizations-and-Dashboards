{
 "cells": [
  {
   "cell_type": "code",
   "execution_count": 7,
   "metadata": {
    "collapsed": true
   },
   "outputs": [],
   "source": [
    "from sqlalchemy.ext.automap import automap_base\n",
    "from sqlalchemy.orm import Session\n",
    "from sqlalchemy import create_engine\n",
    "from flask import Flask, jsonify, render_template\n",
    "import sqlalchemy\n",
    "import os\n",
    "import pandas as pd\n",
    "import numpy as np"
   ]
  },
  {
   "cell_type": "code",
   "execution_count": 8,
   "metadata": {},
   "outputs": [
    {
     "name": "stdout",
     "output_type": "stream",
     "text": [
      "Connected to DB\n"
     ]
    }
   ],
   "source": [
    "# Database Setup\n",
    "engine = create_engine(\"sqlite:///belly_button_biodiversity.sqlite\")\n",
    "print(\"Connected to DB\")"
   ]
  },
  {
   "cell_type": "code",
   "execution_count": 9,
   "metadata": {
    "collapsed": true
   },
   "outputs": [],
   "source": [
    "# reflecting an existing database into a new model\n",
    "Base = automap_base()"
   ]
  },
  {
   "cell_type": "code",
   "execution_count": 10,
   "metadata": {},
   "outputs": [
    {
     "name": "stdout",
     "output_type": "stream",
     "text": [
      "Reflected tables\n"
     ]
    }
   ],
   "source": [
    "# reflect the tables\n",
    "Base.prepare(engine, reflect=True)\n",
    "print(\"Reflected tables\")"
   ]
  },
  {
   "cell_type": "code",
   "execution_count": null,
   "metadata": {},
   "outputs": [],
   "source": [
    "# Saving reference to the table\n",
    "Samples_Metadata = Base.classes.samples_metadata\n",
    "OTU = Base.classes.otu\n",
    "Samples = Base.classes.samples"
   ]
  },
  {
   "cell_type": "code",
   "execution_count": null,
   "metadata": {
    "collapsed": true
   },
   "outputs": [],
   "source": [
    "# Creating session (link) from Python to the DB\n",
    "session = Session(engine)"
   ]
  },
  {
   "cell_type": "code",
   "execution_count": 12,
   "metadata": {
    "collapsed": true
   },
   "outputs": [],
   "source": [
    "# Flask Setup\n",
    "app = Flask(__name__)"
   ]
  },
  {
   "cell_type": "code",
   "execution_count": 7,
   "metadata": {
    "collapsed": true
   },
   "outputs": [],
   "source": [
    "# Flask Routes\n",
    "@app.route(\"/\")\n",
    "def index():\n",
    "    return render_template('index.html')"
   ]
  },
  {
   "cell_type": "code",
   "execution_count": null,
   "metadata": {
    "collapsed": true
   },
   "outputs": [],
   "source": [
    "@app.route(\"/names\")\n",
    "def names():\n",
    "    \n",
    "    stmt = session.query(Samples).statement\n",
    "    df = pd.read_sql_query(stmt, session.bind)\n",
    "    df.set_index('otu_id', inplace=True)\n",
    "\n",
    "    # Return a list of the column names (sample names)\n",
    "    return jsonify(list(df.columns))"
   ]
  },
  {
   "cell_type": "code",
   "execution_count": null,
   "metadata": {
    "collapsed": true
   },
   "outputs": [],
   "source": [
    "@app.route('/otu')\n",
    "def otu():\n",
    "    \"\"\"Return a list of OTU descriptions.\"\"\"\n",
    "    results = session.query(OTU.lowest_taxonomic_unit_found).all()\n",
    "\n",
    "    # Using numpy ravel to extract list of tuples into a list of OTU descriptions\n",
    "    otu_list = list(np.ravel(results))\n",
    "    return jsonify(otu_list)"
   ]
  },
  {
   "cell_type": "code",
   "execution_count": null,
   "metadata": {
    "collapsed": true
   },
   "outputs": [],
   "source": [
    "@app.route('/metadata/<sample>')\n",
    "def sample_metadata(sample):\n",
    "    \"\"\"Return the MetaData for a given sample.\"\"\"\n",
    "    sel = [Samples_Metadata.SAMPLEID, Samples_Metadata.ETHNICITY,\n",
    "           Samples_Metadata.GENDER, Samples_Metadata.AGE,\n",
    "           Samples_Metadata.LOCATION, Samples_Metadata.BBTYPE]\n",
    "\n",
    "    # sample[3:] strips the `BB_` prefix from the sample name to match\n",
    "    # the numeric value of `SAMPLEID` from the database\n",
    "    results = session.query(*sel).\\\n",
    "        filter(Samples_Metadata.SAMPLEID == sample[3:]).all()\n",
    "\n",
    "    # Create a dictionary entry for each row of metadata information\n",
    "    sample_metadata = {}\n",
    "    for result in results:\n",
    "        sample_metadata['SAMPLEID'] = result[0]\n",
    "        sample_metadata['ETHNICITY'] = result[1]\n",
    "        sample_metadata['GENDER'] = result[2]\n",
    "        sample_metadata['AGE'] = result[3]\n",
    "        sample_metadata['LOCATION'] = result[4]\n",
    "        sample_metadata['BBTYPE'] = result[5]\n",
    "\n",
    "    return jsonify(sample_metadata)"
   ]
  },
  {
   "cell_type": "code",
   "execution_count": null,
   "metadata": {
    "collapsed": true
   },
   "outputs": [],
   "source": [
    "@app.route('/wfreq/<sample>')\n",
    "def sample_wfreq(sample):\n",
    "    \"\"\"Return the Weekly Washing Frequency as a number.\"\"\"\n",
    "\n",
    "    # `sample[3:]` strips the `BB_` prefix\n",
    "    results = session.query(Samples_Metadata.WFREQ).\\\n",
    "        filter(Samples_Metadata.SAMPLEID == sample[3:]).all()\n",
    "    wfreq = np.ravel(results)\n",
    "\n",
    "    # Return only the first integer value for washing frequency\n",
    "    return jsonify(int(wfreq[0]))"
   ]
  },
  {
   "cell_type": "code",
   "execution_count": null,
   "metadata": {
    "collapsed": true
   },
   "outputs": [],
   "source": [
    "@app.route('/samples/<sample>')\n",
    "def samples(sample):\n",
    "    \"\"\"Return a list dictionaries containing `otu_ids` and `sample_values`.\"\"\"\n",
    "    stmt = session.query(Samples).statement\n",
    "    df = pd.read_sql_query(stmt, session.bind)\n",
    "\n",
    "    # Make sure that the sample was found in the columns, else throw an error\n",
    "    if sample not in df.columns:\n",
    "        return jsonify(f\"Error! Sample: {sample} Not Found!\"), 400\n",
    "\n",
    "    # Return any sample values greater than 1\n",
    "    df = df[df[sample] > 1]\n",
    "\n",
    "    # Sort the results by sample in descending order\n",
    "    df = df.sort_values(by=sample, ascending=0)\n",
    "\n",
    "    # Format the data to send as json\n",
    "    data = [{\n",
    "        \"otu_ids\": df[sample].index.values.tolist(),\n",
    "        \"sample_values\": df[sample].values.tolist()\n",
    "    }]\n",
    "    return jsonify(data)"
   ]
  },
  {
   "cell_type": "code",
   "execution_count": null,
   "metadata": {
    "collapsed": true
   },
   "outputs": [],
   "source": [
    "if __name__ == \"__main__\":\n",
    "    app.run(debug=True)"
   ]
  }
 ],
 "metadata": {
  "kernelspec": {
   "display_name": "Python 3",
   "language": "python",
   "name": "python3"
  },
  "language_info": {
   "codemirror_mode": {
    "name": "ipython",
    "version": 3
   },
   "file_extension": ".py",
   "mimetype": "text/x-python",
   "name": "python",
   "nbconvert_exporter": "python",
   "pygments_lexer": "ipython3",
   "version": "3.6.2"
  }
 },
 "nbformat": 4,
 "nbformat_minor": 2
}
